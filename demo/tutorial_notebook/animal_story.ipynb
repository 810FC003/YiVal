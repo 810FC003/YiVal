{
 "cells": [
  {
   "cell_type": "markdown",
   "metadata": {},
   "source": [
    "# Yival supports multi-model now 🎉🎉\n",
    "We can quickly experience the powerful features of Yival by visualizing some animal stories using Midjourney.\n",
    "\n",
    "![hello](https://uninaruto.oss-cn-shanghai.aliyuncs.com/img/816211693805398_.pic_hd.jpg)"
   ]
  },
  {
   "cell_type": "markdown",
   "metadata": {},
   "source": [
    "# Configure your OpenAI API key"
   ]
  },
  {
   "cell_type": "code",
   "execution_count": null,
   "metadata": {},
   "outputs": [],
   "source": [
    "import os\n",
    "os.environ['OPENAI_API_KEY'] = ''"
   ]
  },
  {
   "cell_type": "markdown",
   "metadata": {},
   "source": [
    "# Configure your [the next leg key](https://www.thenextleg.io/)\n",
    "\n",
    "We provide this key for user to try our product🐯"
   ]
  },
  {
   "cell_type": "markdown",
   "metadata": {},
   "source": [
    "# Configure your OpenAI API key"
   ]
  },
  {
   "cell_type": "code",
   "execution_count": null,
   "metadata": {},
   "outputs": [],
   "source": [
    "os.environ['MIDJOURNEY_TOKEN'] = '7ab0c4ac-4be4-419d-8656-ddb251383e17'"
   ]
  },
  {
   "cell_type": "markdown",
   "metadata": {},
   "source": [
    "# MidJourney demo\n",
    "\n",
    "```\n",
    "custom_function: demo.logo_generation.logo_generation\n",
    "description: Generated experiment config\n",
    "dataset:\n",
    "  data_generators:\n",
    "    openai_prompt_data_generator:\n",
    "      chunk_size: 100000\n",
    "      diversify: true\n",
    "      prompt:\n",
    "          \"Please provide a concrete and realistic test case as a dictionary for function invocation using the ** operator.\n",
    "          Only include parameters, excluding description and name.\n",
    "          Ensure it's succinct and well-structured.\n",
    "          **Only provide the dictionary.**\"\n",
    "      input_function:\n",
    "        description:\n",
    "          Given an tech startup business, generate a corresponding landing\n",
    "          page headline\n",
    "        name: headline_generation_for_business\n",
    "        parameters:\n",
    "          tech_startup_business: str\n",
    "      number_of_examples: 1\n",
    "      openai_model_name: gpt-4\n",
    "      output_path: null\n",
    "  source_type: machine_generated\n",
    "\n",
    "variations:\n",
    "  - name: task\n",
    "    variations:\n",
    "      - instantiated_value: Generate logo image for\n",
    "        value: Generate landing page logo image for\n",
    "        value_type: str\n",
    "        variation_id: null\n",
    "    generator_name: openai_prompt_based_variation_generator\n",
    "    generator_config:\n",
    "      openai_model_name: gpt-4\n",
    "      number_of_variations: 1\n",
    "      diversify: true\n",
    "      variables: null\n",
    "      prompt:\n",
    "        - content: |-\n",
    "            Your objective is to construct a concise instruction prompt for GPT-4.\n",
    "            Task: Given an tech startup business, generate one corresponding logo image which is really attracting to all people.\n",
    "            The name of the company will be add to the end of the prompt.\n",
    "            keep your output crisp: only the prompt, devoid of any extraneous content.\n",
    "\n",
    "          role: system\n",
    "\n",
    "evaluators: []\n",
    "```\n",
    "\n",
    "In this demo , we mainly focus on writing stories accoding to animal species and character , and then midjourney will generate the corresponding cover of this story.\n",
    "\n",
    "For dataset , opanai_prompt_data_generator will generate the animal species and its character like { cat , brave }\n",
    "\n",
    "For variation , we write one prompt that generate generate-animal-story-template.\n",
    "\n",
    "We format this template with { species , character } and generate detailed stories through GPT-4 , and with Midjourney we visualzie this story."
   ]
  },
  {
   "cell_type": "markdown",
   "metadata": {},
   "source": [
    "![image](https://uninaruto.oss-cn-shanghai.aliyuncs.com/img/818501693828594_.pic.jpg)"
   ]
  },
  {
   "cell_type": "markdown",
   "metadata": {},
   "source": [
    "# Multi-model YIVAL !"
   ]
  },
  {
   "cell_type": "code",
   "execution_count": null,
   "metadata": {},
   "outputs": [],
   "source": [
    "!poetry run yival run /content/YiVal/demo/configs/animal_story.yml"
   ]
  }
 ],
 "metadata": {
  "language_info": {
   "name": "python"
  },
  "orig_nbformat": 4
 },
 "nbformat": 4,
 "nbformat_minor": 2
}
