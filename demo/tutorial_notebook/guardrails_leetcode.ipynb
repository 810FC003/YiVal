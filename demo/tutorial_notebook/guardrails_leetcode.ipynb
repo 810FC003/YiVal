{
 "cells": [
  {
   "cell_type": "markdown",
   "metadata": {},
   "source": [
    "# make sure your python version >= 3.10"
   ]
  },
  {
   "cell_type": "code",
   "execution_count": null,
   "metadata": {},
   "outputs": [],
   "source": [
    "!python --version"
   ]
  },
  {
   "cell_type": "markdown",
   "metadata": {},
   "source": [
    "# Install Yival with pip"
   ]
  },
  {
   "cell_type": "code",
   "execution_count": null,
   "metadata": {},
   "outputs": [],
   "source": [
    "%pip install yival"
   ]
  },
  {
   "cell_type": "markdown",
   "metadata": {},
   "source": [
    "# Configure your OpenAI API key"
   ]
  },
  {
   "cell_type": "code",
   "execution_count": null,
   "metadata": {},
   "outputs": [],
   "source": [
    "import os\n",
    "os.environ['OPENAI_API_KEY']= 'XXX'"
   ]
  },
  {
   "cell_type": "markdown",
   "metadata": {},
   "source": [
    "# Guardrails evaluation yml\n",
    "## Dataset\n",
    "The experiment sources its data from a CSV file which storage 80 leetcode problems (leetcode_problems.csv). The data source type is defined as a dataset.\n",
    "\n",
    "## Custom Function\n",
    "The custom function `demo.guardrails.run_leetcode.run_leetcode` is utilized in this experiment. This function addresses Leetcode problems by either utilizing Guardrails' wrapper or directly employing the ChatCompletion interface. It then returns the corresponding Python code as the result.\n",
    "\n",
    "## Variations\n",
    "In this experiment, we will explore two different variations: **`use_guardrails`** and **`gpt`**. **`use_guardrails`** indicates the use of Guardrails method in the experiment, while **`gpt`** signifies the absence of Guardrails method. These two variations will impact the outcomes and performance of the experiment.\n",
    "\n",
    "## Evaluators\n",
    "The experiment will utilize an evaluator named **`python_validation_evaluator`** to assess the model's performance. This assessment hinges on the successful execution of the generated Python code. It will compute an average score as the evaluation outcome.\n",
    "\n",
    "```\n",
    "custom_function: demo.guardrails.run_leetcode.run_leetcode\n",
    "dataset:\n",
    "  file_path: demo/guardrails/data/leetcode_problems.csv\n",
    "  reader: csv_reader\n",
    "  source_type: dataset\n",
    "description: Generate the expected results for the Leetcode problems.\n",
    "evaluators:\n",
    "  - evaluator_type: individual\n",
    "    matching_technique: includes\n",
    "    metric_calculators:\n",
    "      - method: AVERAGE\n",
    "    name: python_validation_evaluator\n",
    "\n",
    "variations:\n",
    "  - name: use_guardrails\n",
    "    variations:\n",
    "      - instantiated_value: \"use_guardrails\"\n",
    "        value: \"use_guardrails\"\n",
    "        value_type: str\n",
    "        variation_id: null\n",
    "      - instantiated_value: \"gpt\"\n",
    "        value: \"gpt\"\n",
    "        value_type: str\n",
    "        variation_id: null\n",
    "```"
   ]
  },
  {
   "cell_type": "code",
   "execution_count": null,
   "metadata": {},
   "outputs": [],
   "source": [
    "import os\n",
    "os.chdir('../..')\n",
    "\n",
    "!yival run demo/configs/guardrails_leetcode.yml --async_eval=True"
   ]
  },
  {
   "cell_type": "markdown",
   "metadata": {},
   "source": [
    "# Experiment Result between use_guardrails\n",
    "![image](https://github.com/uni-zhuan/uni_CDN/blob/master/picture/Yival/WechatIMG134.png?raw=true)\n",
    "\n",
    "We can clearly see that the model's performance dropped when using the Guardrails wrapper. This indicates that in this demo, applying Guardrails to the LLM does not provide strong quality guarantees. "
   ]
  }
 ],
 "metadata": {
  "kernelspec": {
   "display_name": "py310",
   "language": "python",
   "name": "python3"
  },
  "language_info": {
   "codemirror_mode": {
    "name": "ipython",
    "version": 3
   },
   "file_extension": ".py",
   "mimetype": "text/x-python",
   "name": "python",
   "nbconvert_exporter": "python",
   "pygments_lexer": "ipython3",
   "version": "3.10.12"
  },
  "orig_nbformat": 4
 },
 "nbformat": 4,
 "nbformat_minor": 2
}
